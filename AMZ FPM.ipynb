{
 "cells": [
  {
   "cell_type": "code",
   "execution_count": 3,
   "metadata": {
    "collapsed": true
   },
   "outputs": [],
   "source": [
    "from pyspark import SparkContext\n",
    "from pyspark.sql.session import SparkSession\n",
    "sc = SparkContext.getOrCreate()\n",
    "spark = SparkSession(sc)"
   ]
  },
  {
   "cell_type": "code",
   "execution_count": 4,
   "metadata": {},
   "outputs": [
    {
     "data": {
      "text/html": [
       "\n",
       "            <div>\n",
       "                <p><b>SparkSession - in-memory</b></p>\n",
       "                \n",
       "        <div>\n",
       "            <p><b>SparkContext</b></p>\n",
       "\n",
       "            <p><a href=\"http://10.59.179.170:4040\">Spark UI</a></p>\n",
       "\n",
       "            <dl>\n",
       "              <dt>Version</dt>\n",
       "                <dd><code>v2.2.0</code></dd>\n",
       "              <dt>Master</dt>\n",
       "                <dd><code>local[2]</code></dd>\n",
       "              <dt>AppName</dt>\n",
       "                <dd><code>PySparkShell</code></dd>\n",
       "            </dl>\n",
       "        </div>\n",
       "        \n",
       "            </div>\n",
       "        "
      ],
      "text/plain": [
       "<pyspark.sql.session.SparkSession at 0x109f84410>"
      ]
     },
     "execution_count": 4,
     "metadata": {},
     "output_type": "execute_result"
    }
   ],
   "source": [
    "spark"
   ]
  },
  {
   "cell_type": "code",
   "execution_count": 5,
   "metadata": {
    "collapsed": true
   },
   "outputs": [],
   "source": [
    "from pyspark import SparkContext\n",
    "from pyspark.sql.functions import lit\n",
    "from pyspark.sql.functions import array_contains\n",
    "from pyspark.sql.functions import col, udf, array, collect_list, regexp_replace, count, avg\n",
    "from pyspark.sql.functions import desc, size, array\n",
    "from pyspark.ml.fpm import FPGrowth \n",
    "from pyspark.ml.feature import OneHotEncoder, StringIndexer\n",
    "from pyspark.sql.types import *\n",
    "from pyspark.sql.types import FloatType, IntegerType, ArrayType\n",
    "import time\n",
    "import pandas as pd\n",
    "from pyspark_dist_explore import hist\n",
    "import matplotlib.pyplot as plt"
   ]
  },
  {
   "cell_type": "markdown",
   "metadata": {},
   "source": [
    "## Dataframe Based API - Frequent Pattern Mining"
   ]
  },
  {
   "cell_type": "markdown",
   "metadata": {},
   "source": [
    "This section shows how a recommender system is built with Freqent Pattern Mining (FPM) algorithm. This algorithm aims to identify underlying patterns in users' purchasing bahavior and recommend products if the user's current purchasing list matches some pattern."
   ]
  },
  {
   "cell_type": "markdown",
   "metadata": {},
   "source": [
    "### I. Data Pre-processing & Model Exploration"
   ]
  },
  {
   "cell_type": "code",
   "execution_count": 6,
   "metadata": {
    "collapsed": true
   },
   "outputs": [],
   "source": [
    "train_df = spark.read.json(\"/Users/zhichaoyang/Desktop/personalization_final/shared_data/train_df.json\")\n",
    "valid_df = spark.read.json(\"/Users/zhichaoyang/Desktop/personalization_final/shared_data/valid_df.json\")\n",
    "test_df = spark.read.json(\"/Users/zhichaoyang/Desktop/personalization_final/shared_data/test_df.json\")\n",
    "# The code of getting the three dataframe is the same as the ALS algorithm."
   ]
  },
  {
   "cell_type": "code",
   "execution_count": 7,
   "metadata": {
    "collapsed": true
   },
   "outputs": [],
   "source": [
    "meta = spark.read.json(\"/Users/zhichaoyang/Desktop/personalization_final/data/metadata.json\")"
   ]
  },
  {
   "cell_type": "code",
   "execution_count": 10,
   "metadata": {},
   "outputs": [],
   "source": [
    "product_index = spark.read.json(\"/Users/zhichaoyang/Desktop/personalization_final/product_index.json\")\n",
    "# product_index lists original item id and corresponding numeric id we generated."
   ]
  },
  {
   "cell_type": "code",
   "execution_count": 11,
   "metadata": {},
   "outputs": [],
   "source": [
    "product = train_df.join(product_index, (train_df.Product_ID == product_index.ProductIndex), \"left_outer\").select(train_df.User_ID, train_df.Product_ID.alias('item_index'), product_index.itemId)\n",
    "groupby_item = product.groupBy(\"itemId\").agg(count(\"User_ID\").alias(\"count\")).cache()\n",
    "item_info = groupby_item.join(meta, (groupby_item.itemId == meta.asin), \"left_outer\").cache()\n",
    "item_info = item_info.select('itemId','count','brand','title','description').cache()\n",
    "#item_info.write.json('item_info.json')"
   ]
  },
  {
   "cell_type": "code",
   "execution_count": 46,
   "metadata": {},
   "outputs": [
    {
     "name": "stdout",
     "output_type": "stream",
     "text": [
      "+----------+-----+---------------+--------------------+--------------------+\n",
      "|    itemId|count|          brand|               title|         description|\n",
      "+----------+-----+---------------+--------------------+--------------------+\n",
      "|B007WTAJTO| 4983|        SanDisk|SanDisk Ultra 64G...|Perfect for today...|\n",
      "|B00DR0PDNE| 4315|         Google|Google Chromecast...|                    |\n",
      "|B003ES5ZUU| 4009|           null|AmazonBasics High...|                    |\n",
      "|B0019EHU8G| 3697|    Mediabridge|Mediabridge ULTRA...|Mediabridge ULTRA...|\n",
      "|B0074BW614| 3307|           null|                null|                null|\n",
      "|B003ELYQGG| 3114|      Panasonic|Panasonic RPHJE12...|Panasonic In-Ear ...|\n",
      "|B006GWO5WK| 3065|           null|                null|                null|\n",
      "|B0002L5R78| 2706|       DVI Gear|DVI Gear HDMI Cab...|                    |\n",
      "|B002WE6D44| 2687|           null|Transcend 8 GB Cl...|                    |\n",
      "|B009SYZ8OC| 2602|           null|AmazonBasics Appl...|                    |\n",
      "|B000LRMS66| 2409|           null|                null|                null|\n",
      "|B00BGGDVOO| 2184|           Roku|Roku 3 Streaming ...|                    |\n",
      "|B00622AG6S| 2070|           null|PowerGen 2.4Amps ...|The PowerGen 2.4A...|\n",
      "|B005HMKKH4| 2006|Western Digital|WD My Passport 2T...|                    |\n",
      "|B002V88HFE| 1855|           null|                null|                null|\n",
      "|B005FYNSPK| 1785|        SanDisk|SanDisk Cruzer Fi...|With its low-prof...|\n",
      "|B004QK7HI8| 1766|           Mohu|Mohu Leaf Paper-T...|                    |\n",
      "|B0041Q38NU| 1735|           null|Kingston Digital ...|                    |\n",
      "|B000QUUFRW| 1714|        SanDisk|SanDisk 4GB Extre...|The SanDisk Extre...|\n",
      "|B008OHNZI0| 1660|           null|Tech Armor Ultima...|WHY BUY A TECH AR...|\n",
      "+----------+-----+---------------+--------------------+--------------------+\n",
      "only showing top 20 rows\n",
      "\n"
     ]
    }
   ],
   "source": [
    "item_info.sort(desc(\"count\")).show()"
   ]
  },
  {
   "cell_type": "code",
   "execution_count": 5,
   "metadata": {
    "collapsed": true
   },
   "outputs": [],
   "source": [
    "#item_info = spark.read.json(\"/Users/zhichaoyang/Desktop/personalization_final/item_info.json\")"
   ]
  },
  {
   "cell_type": "code",
   "execution_count": 34,
   "metadata": {},
   "outputs": [
    {
     "data": {
      "image/png": "[encoded data removed]",
      "text/plain": [
       "<matplotlib.figure.Figure at 0x1118c9650>"
      ]
     },
     "metadata": {},
     "output_type": "display_data"
    }
   ],
   "source": [
    "fig, axes = plt.subplots(nrows=1, ncols=2)\n",
    "fig.set_size_inches(15, 5)\n",
    "hist(axes[0], [item_info.select('count').filter(col('count') < 500)], bins = 500,  color=['blue'])\n",
    "axes[0].set_title('Count Distribution - item rated by less than 500 times')\n",
    "#axes[0,0].legend()\n",
    "hist(axes[1], [item_info.select('count').filter(col('count') < 50)], bins = 200,  color=['blue'])\n",
    "axes[1].set_title('Count Distribution - item rated by less than 500 times')\n",
    "plt.show()"
   ]
  },
  {
   "cell_type": "markdown",
   "metadata": {
    "collapsed": true
   },
   "source": [
    "Most of items are rated by less than 30 times from the histograms above."
   ]
  },
  {
   "cell_type": "code",
   "execution_count": 49,
   "metadata": {
    "collapsed": true
   },
   "outputs": [],
   "source": [
    "groupby_item_user = df.groupBy(\"itemId\",\"userId\").agg(count('timestamp').alias(\"count\")).cache()\n",
    "item_info_2 = groupby_item_user.join(meta, (groupby_item_user.itemId == meta.asin), \"left_outer\").cache()\n",
    "item_info_2 = item_info_2.select('userId','itemId','count','brand','title','description').cache()"
   ]
  },
  {
   "cell_type": "code",
   "execution_count": 52,
   "metadata": {},
   "outputs": [
    {
     "name": "stdout",
     "output_type": "stream",
     "text": [
      "+------+------+-----+-----+-----+-----------+\n",
      "|userId|itemId|count|brand|title|description|\n",
      "+------+------+-----+-----+-----+-----------+\n",
      "+------+------+-----+-----+-----+-----------+\n",
      "\n"
     ]
    }
   ],
   "source": [
    "item_info_2.filter(col('count') > 1).show()"
   ]
  },
  {
   "cell_type": "markdown",
   "metadata": {},
   "source": [
    "No product is rated twice by the same user. So assume each user will only buy a product once."
   ]
  },
  {
   "cell_type": "markdown",
   "metadata": {
    "collapsed": true
   },
   "source": [
    "     "
   ]
  },
  {
   "cell_type": "markdown",
   "metadata": {},
   "source": [
    "### II. Model Explore"
   ]
  },
  {
   "cell_type": "code",
   "execution_count": 12,
   "metadata": {},
   "outputs": [
    {
     "name": "stdout",
     "output_type": "stream",
     "text": [
      "+-------+-----+\n",
      "|user_ID|count|\n",
      "+-------+-----+\n",
      "| 270992|    1|\n",
      "| 271186|    3|\n",
      "| 271201|    2|\n",
      "| 271266|   11|\n",
      "| 271566|    1|\n",
      "| 271690|    2|\n",
      "| 272014|  179|\n",
      "| 272238|    2|\n",
      "| 272659|    1|\n",
      "| 272712|   21|\n",
      "| 272775|    1|\n",
      "| 273145|    1|\n",
      "| 273340|    1|\n",
      "| 273499|    3|\n",
      "| 274093|    7|\n",
      "| 283620|    5|\n",
      "| 283857|    4|\n",
      "| 283969|    3|\n",
      "| 284004|    2|\n",
      "| 284028|    2|\n",
      "+-------+-----+\n",
      "only showing top 20 rows\n",
      "\n"
     ]
    }
   ],
   "source": [
    "groupby_user = train_df.groupBy(\"user_ID\").agg(count('Product_ID').alias(\"count\"))\n",
    "groupby_user.show()"
   ]
  },
  {
   "cell_type": "code",
   "execution_count": 33,
   "metadata": {},
   "outputs": [
    {
     "data": {
      "image/png": "[encoded data removed]",
      "text/plain": [
       "<matplotlib.figure.Figure at 0x11a9a8c90>"
      ]
     },
     "metadata": {},
     "output_type": "display_data"
    }
   ],
   "source": [
    "fig, axes = plt.subplots(nrows=1, ncols=2)\n",
    "fig.set_size_inches(15, 5)\n",
    "hist(axes[0], [groupby_user.select('count').filter(col('count') < 50)], bins = 50,  color=['blue'])\n",
    "axes[0].set_title('Count Distribution - User rated less than 50 times')\n",
    "#axes[0,0].legend()\n",
    "hist(axes[1], [groupby_user.select('count').filter(col('count') < 10)], bins = 50,  color=['blue'])\n",
    "axes[1].set_title('Count Distribution - User rated less than 10 times')\n",
    "plt.show()"
   ]
  },
  {
   "cell_type": "markdown",
   "metadata": {},
   "source": [
    "Most of the users rated less than 10 products."
   ]
  },
  {
   "cell_type": "code",
   "execution_count": 13,
   "metadata": {},
   "outputs": [
    {
     "name": "stdout",
     "output_type": "stream",
     "text": [
      "+-------+--------------------+\n",
      "|User_ID|          Product_ID|\n",
      "+-------+--------------------+\n",
      "|     26|     [13, 106, 2510]|\n",
      "|     29|[6840, 5530, 553,...|\n",
      "|    474|[65833, 28897, 25...|\n",
      "|    964|[1380, 12951, 13482]|\n",
      "|   1677|        [1322, 8417]|\n",
      "|   1697|         [9164, 403]|\n",
      "|   1806|   [478, 68948, 352]|\n",
      "|   1950|[4966, 88334, 140...|\n",
      "|   2040|[2028, 3150, 1543...|\n",
      "|   2214|[3761, 156435, 17...|\n",
      "|   2250|[33297, 14, 36238...|\n",
      "|   2453|       [1213, 16910]|\n",
      "|   2509|[1624, 12875, 43513]|\n",
      "|   2927|[65869, 51415, 75...|\n",
      "|   3091|        [683, 10460]|\n",
      "|   3506|     [1346, 2994, 3]|\n",
      "|   4590|              [1614]|\n",
      "|   4823|[5108, 16913, 329...|\n",
      "|   5385|   [74140, 172, 309]|\n",
      "|   5409|      [13688, 13282]|\n",
      "+-------+--------------------+\n",
      "only showing top 20 rows\n",
      "\n"
     ]
    }
   ],
   "source": [
    "groupby = train_df.groupBy(\"User_ID\").agg(collect_list(\"Product_ID\"))\n",
    "groupby = groupby.select(col(\"User_ID\").alias(\"User_ID\"), col(\"collect_list(Product_ID)\").alias(\"Product_ID\"))\n",
    "#groupby = spark.read.json(\"/Users/zhichaoyang/Desktop/personalization_final/grouped_train.json\")\n",
    "groupby.show()"
   ]
  },
  {
   "cell_type": "code",
   "execution_count": 86,
   "metadata": {},
   "outputs": [
    {
     "data": {
      "text/plain": [
       "595383"
      ]
     },
     "execution_count": 86,
     "metadata": {},
     "output_type": "execute_result"
    }
   ],
   "source": [
    "groupby.count()"
   ]
  },
  {
   "cell_type": "markdown",
   "metadata": {},
   "source": [
    "minSupport is the minimum support for an itemset to be identified as frequent. The training set contains 595,383 users/transactions. For instance, to have an itemset appear at least 5 times among all transactions, the minSupport will be 0.0000085.\n",
    "\n",
    "minConfidence is the minimum confidence for generating Association Rule. For example, if in the transactions itemset X appears 4 times, X and Y co-occur only 2 times, the confidence for the rule X => Y is then 2/4 = 0.5. The parameter will not affect the mining for frequent itemsets, but specify the minimum confidence for generating association rules from frequent itemsets."
   ]
  },
  {
   "cell_type": "code",
   "execution_count": 14,
   "metadata": {
    "collapsed": true
   },
   "outputs": [],
   "source": [
    "fpGrowth = FPGrowth(itemsCol=\"Product_ID\", minSupport= 0.0000085, minConfidence = 0.5 )\n",
    "model = fpGrowth.fit(groupby)"
   ]
  },
  {
   "cell_type": "code",
   "execution_count": 15,
   "metadata": {},
   "outputs": [
    {
     "name": "stdout",
     "output_type": "stream",
     "text": [
      "+-----------+----+\n",
      "|      items|freq|\n",
      "+-----------+----+\n",
      "|  [207, 48]|   6|\n",
      "|  [207, 14]|  10|\n",
      "|   [207, 7]|   8|\n",
      "|  [207, 18]|  14|\n",
      "| [207, 194]|  22|\n",
      "|  [207, 94]|  12|\n",
      "|  [207, 38]|   7|\n",
      "| [207, 167]|   6|\n",
      "|   [207, 0]|  10|\n",
      "| [438, 115]|  35|\n",
      "| [438, 248]|  22|\n",
      "|  [438, 96]|  26|\n",
      "|   [438, 9]|   9|\n",
      "| [629, 423]|  13|\n",
      "| [629, 361]|  15|\n",
      "|   [629, 2]|   9|\n",
      "| [629, 377]|  17|\n",
      "|   [629, 3]|   7|\n",
      "|[2082, 237]|   6|\n",
      "|[4391, 693]|   8|\n",
      "+-----------+----+\n",
      "only showing top 20 rows\n",
      "\n"
     ]
    }
   ],
   "source": [
    "item_set = model.freqItemsets.filter(size('items') > 1)\n",
    "item_set.show()"
   ]
  },
  {
   "cell_type": "code",
   "execution_count": 16,
   "metadata": {},
   "outputs": [
    {
     "data": {
      "text/plain": [
       "9417"
      ]
     },
     "execution_count": 16,
     "metadata": {},
     "output_type": "execute_result"
    }
   ],
   "source": [
    "item_set.count()  #number of distinct item_set"
   ]
  },
  {
   "cell_type": "code",
   "execution_count": 17,
   "metadata": {},
   "outputs": [
    {
     "name": "stdout",
     "output_type": "stream",
     "text": [
      "+-----------+----+-------------+\n",
      "|      items|freq|item_set_size|\n",
      "+-----------+----+-------------+\n",
      "|  [207, 48]|   6|            2|\n",
      "|  [207, 14]|  10|            2|\n",
      "|   [207, 7]|   8|            2|\n",
      "|  [207, 18]|  14|            2|\n",
      "| [207, 194]|  22|            2|\n",
      "|  [207, 94]|  12|            2|\n",
      "|  [207, 38]|   7|            2|\n",
      "| [207, 167]|   6|            2|\n",
      "|   [207, 0]|  10|            2|\n",
      "| [438, 115]|  35|            2|\n",
      "| [438, 248]|  22|            2|\n",
      "|  [438, 96]|  26|            2|\n",
      "|   [438, 9]|   9|            2|\n",
      "| [629, 423]|  13|            2|\n",
      "| [629, 361]|  15|            2|\n",
      "|   [629, 2]|   9|            2|\n",
      "| [629, 377]|  17|            2|\n",
      "|   [629, 3]|   7|            2|\n",
      "|[2082, 237]|   6|            2|\n",
      "|[4391, 693]|   8|            2|\n",
      "+-----------+----+-------------+\n",
      "only showing top 20 rows\n",
      "\n"
     ]
    }
   ],
   "source": [
    "count_itemset = item_set.select('*',size('items').alias('item_set_size'))\n",
    "count_itemset.show()"
   ]
  },
  {
   "cell_type": "code",
   "execution_count": 18,
   "metadata": {},
   "outputs": [
    {
     "name": "stdout",
     "output_type": "stream",
     "text": [
      "+-------------+-----+\n",
      "|item_set_size|count|\n",
      "+-------------+-----+\n",
      "|            3|  114|\n",
      "|            4|    1|\n",
      "|            2| 9302|\n",
      "+-------------+-----+\n",
      "\n"
     ]
    }
   ],
   "source": [
    "count_itemset.groupBy(\"item_set_size\").agg(count(\"items\").alias(\"count\")).show() # size of frequent item_set"
   ]
  },
  {
   "cell_type": "code",
   "execution_count": 19,
   "metadata": {
    "collapsed": true
   },
   "outputs": [],
   "source": [
    "fpGrowth2 = FPGrowth(itemsCol=\"Product_ID\", minSupport= 0.00002, minConfidence = 0.5)\n",
    "model2 = fpGrowth2.fit(groupby)\n",
    "item_set2 = model2.freqItemsets.filter(size('items') > 1)\n",
    "count_itemset2 = item_set2.select('*',size('items').alias('item_set_size'))"
   ]
  },
  {
   "cell_type": "code",
   "execution_count": 20,
   "metadata": {},
   "outputs": [
    {
     "name": "stdout",
     "output_type": "stream",
     "text": [
      "+-------------+-----+\n",
      "|item_set_size|count|\n",
      "+-------------+-----+\n",
      "|            3|   15|\n",
      "|            2| 1695|\n",
      "+-------------+-----+\n",
      "\n"
     ]
    }
   ],
   "source": [
    "count_itemset2.groupBy(\"item_set_size\").agg(count(\"items\").alias(\"count\")).show()"
   ]
  },
  {
   "cell_type": "markdown",
   "metadata": {},
   "source": [
    "With a minimum support of 0.0000085, there are 9395 frequent itemsets contains two or more items and mostly a pair of items. If we increase the minSupport to 0.00002, which means an itemset will need to appear about 12 times to be considered. As a result, the number of itemset decreases significantly. "
   ]
  },
  {
   "cell_type": "code",
   "execution_count": 42,
   "metadata": {},
   "outputs": [
    {
     "name": "stdout",
     "output_type": "stream",
     "text": [
      "+--------------+----------+------------------+\n",
      "|    antecedent|consequent|        confidence|\n",
      "+--------------+----------+------------------+\n",
      "|  [9355, 1227]|   [11172]|               0.5|\n",
      "|  [9355, 1227]|     [469]|               0.5|\n",
      "|   [4103, 500]|    [5894]|0.5454545454545454|\n",
      "|   [4103, 500]|    [2701]|0.5454545454545454|\n",
      "|   [4103, 500]|     [477]|0.5454545454545454|\n",
      "|   [4103, 500]|    [6264]|0.6363636363636364|\n",
      "|   [4103, 500]|    [3950]|0.6363636363636364|\n",
      "|   [3047, 698]|     [500]|               0.6|\n",
      "|  [5006, 2701]|     [477]|0.5454545454545454|\n",
      "|[34212, 20900]|   [32129]|0.7777777777777778|\n",
      "|       [16446]|      [22]|               0.5|\n",
      "|  [4103, 2701]|     [477]|               0.5|\n",
      "|  [4103, 2701]|    [3047]|               0.5|\n",
      "|       [27634]|    [6311]|0.5454545454545454|\n",
      "|    [1557, 97]|       [4]|               0.5|\n",
      "|  [5991, 3047]|    [2701]|0.5384615384615384|\n",
      "| [12177, 3950]|    [4103]|0.7777777777777778|\n",
      "|  [6659, 4059]|     [400]|0.7272727272727273|\n",
      "|   [3950, 500]|    [5894]|0.5454545454545454|\n",
      "|   [3950, 500]|    [4103]|0.6363636363636364|\n",
      "+--------------+----------+------------------+\n",
      "only showing top 20 rows\n",
      "\n"
     ]
    }
   ],
   "source": [
    "AR = model.associationRules    # Association Rule\n",
    "AR.show()"
   ]
  },
  {
   "cell_type": "markdown",
   "metadata": {
    "collapsed": true
   },
   "source": [
    "     "
   ]
  },
  {
   "cell_type": "markdown",
   "metadata": {
    "collapsed": true
   },
   "source": [
    "     "
   ]
  },
  {
   "cell_type": "markdown",
   "metadata": {
    "collapsed": true
   },
   "source": [
    "### III. Parameter Selection (Validation)"
   ]
  },
  {
   "cell_type": "code",
   "execution_count": 57,
   "metadata": {
    "collapsed": true
   },
   "outputs": [],
   "source": [
    "groupby = train_df.groupBy('User_ID').agg(collect_list('Product_ID').alias('Product_ID'))\n",
    "#groupby = spark.read.json(\"/Users/zhichaoyang/Desktop/personalization_final/grouped_train.json\")\n",
    "# dataframe:   user_ID, [list of products purchased by this user]"
   ]
  },
  {
   "cell_type": "code",
   "execution_count": 30,
   "metadata": {
    "collapsed": true
   },
   "outputs": [],
   "source": [
    "def user_type(lst):  # Define user type: frequent / infrequent\n",
    "    if len(lst) > 15:\n",
    "        return \"F\"\n",
    "    else:\n",
    "        return \"NF\"\n",
    "user_type_udf = udf(user_type)\n",
    "\n",
    "def match_count(array): # calculate match_count\n",
    "    if array[1] == None:\n",
    "        return 0\n",
    "    else:\n",
    "        count = len(set(array[0]).intersection(array[1]))\n",
    "        return count\n",
    "match_count_udf = udf(match_count)\n",
    "\n",
    "def precision(array):\n",
    "    if array[1] == None or len(set(array[1])) == 0:\n",
    "        return float(0)\n",
    "    else:\n",
    "        count = len(set(array[0]).intersection(array[1]))\n",
    "        precision = float(count * 100 /len(set(array[1])))\n",
    "        return precision\n",
    "precision_udf = udf(precision)\n",
    "\n",
    "def recall(array):\n",
    "    if array[1] == None or len(set(array[0])) == 0:\n",
    "        return float(0)\n",
    "    else:\n",
    "        count = len(set(array[0]).intersection(array[1]))\n",
    "        recall = float(count * 100 /len(set(array[0])))\n",
    "        return recall\n",
    "recall_udf = udf(recall)\n",
    "\n",
    "def F_measure(array):\n",
    "    if array[1] == None or len(set(array[1])) == 0 or len(set(array[0])) == 0:\n",
    "        return 0\n",
    "    else:\n",
    "        count = len(set(array[0]).intersection(array[1]))\n",
    "        precision = count * 100 /len(set(array[1]))\n",
    "        recall = count * 100 /len(set(array[0]))\n",
    "        if precision > 0 and recall > 0:\n",
    "            F = float(2 * recall* precision) / float((recall + precision))\n",
    "            return F\n",
    "        else:\n",
    "            return 0\n",
    "F_udf = udf(F_measure)\n",
    "\n",
    "\n",
    "def FPM(train, valid, minsupport = 0.0000085 , minconfidence = 0.5):\n",
    "    # model training\n",
    "    start = time.time()\n",
    "    fpGrowth = FPGrowth(itemsCol=\"Product_ID\", minSupport= minsupport, minConfidence=minconfidence)\n",
    "    model = fpGrowth.fit(train)\n",
    "    prediction = model.transform(train) #prediction\n",
    "\n",
    "    prediction = prediction.withColumn(\"type\", user_type_udf(col('Product_ID'))) #define user as frequent/non-frequent\n",
    "    prediction.show()\n",
    "    end = time.time()\n",
    "    print 'Time for prediction:' + str(end - start)\n",
    "    # model on validation set\n",
    "    groupby_vali = valid.groupBy(\"User_ID\").agg(collect_list(\"Product_ID\"))\n",
    "    groupby_vali = groupby_vali.select(col(\"User_ID\").alias(\"User_ID\"), col(\"collect_list(Product_ID)\").alias(\"Bought\"))\n",
    "         \n",
    "    df1 = groupby_vali.alias('df1')\n",
    "    df2 = prediction.alias('df2')\n",
    "    result = df1.join(df2, (df1.User_ID == df2.User_ID), \"left_outer\").select(df1.User_ID, df2.type, df1.Bought, df2.prediction)\n",
    "\n",
    "    res = result.withColumn('match_count', match_count_udf(array('Bought','prediction')))\n",
    "    res = res.withColumn('precision', precision_udf(array('Bought','prediction')))\n",
    "    res = res.withColumn('recall', recall_udf(array('Bought','prediction')))\n",
    "    res = res.withColumn('F_measure', F_udf(array('Bought','prediction')))\n",
    "    #res.cache()\n",
    "    return res\n",
    "    "
   ]
  },
  {
   "cell_type": "code",
   "execution_count": 21,
   "metadata": {},
   "outputs": [
    {
     "name": "stdout",
     "output_type": "stream",
     "text": [
      "+-------+--------------------+----------+----+\n",
      "|User_ID|          Product_ID|prediction|type|\n",
      "+-------+--------------------+----------+----+\n",
      "|     26|     [13, 106, 2510]|        []|  NF|\n",
      "|     29|[6840, 5530, 553,...|        []|  NF|\n",
      "|    474|[65833, 28897, 25...|        []|  NF|\n",
      "|    964|[1380, 12951, 13482]|        []|  NF|\n",
      "|   1677|        [1322, 8417]|        []|  NF|\n",
      "|   1697|         [9164, 403]|        []|  NF|\n",
      "|   1806|   [478, 68948, 352]|        []|  NF|\n",
      "|   1950|[4966, 88334, 140...|        []|  NF|\n",
      "|   2040|[2028, 3150, 1543...|        []|  NF|\n",
      "|   2214|[3761, 156435, 17...|        []|   F|\n",
      "|   2250|[33297, 14, 36238...|        []|  NF|\n",
      "|   2453|       [1213, 16910]|        []|  NF|\n",
      "|   2509|[1624, 12875, 43513]|        []|  NF|\n",
      "|   2927|[65869, 51415, 75...|        []|  NF|\n",
      "|   3091|        [683, 10460]|        []|  NF|\n",
      "|   3506|     [1346, 2994, 3]|        []|  NF|\n",
      "|   4590|              [1614]|        []|  NF|\n",
      "|   4823|[5108, 16913, 329...|        []|  NF|\n",
      "|   5385|   [74140, 172, 309]|        []|  NF|\n",
      "|   5409|      [13688, 13282]|        []|  NF|\n",
      "+-------+--------------------+----------+----+\n",
      "only showing top 20 rows\n",
      "\n",
      "Time for prediction:161.299262047\n"
     ]
    }
   ],
   "source": [
    "test1 = FPM(groupby, valid_df, minsupport = 0.0000085 , minconfidence = 0.5)"
   ]
  },
  {
   "cell_type": "code",
   "execution_count": 22,
   "metadata": {},
   "outputs": [
    {
     "name": "stdout",
     "output_type": "stream",
     "text": [
      "+----+------+\n",
      "|type| count|\n",
      "+----+------+\n",
      "|   F|  6733|\n",
      "|null| 18322|\n",
      "|  NF|360000|\n",
      "+----+------+\n",
      "\n"
     ]
    }
   ],
   "source": [
    "test1.groupby('type').count().show()"
   ]
  },
  {
   "cell_type": "code",
   "execution_count": 23,
   "metadata": {},
   "outputs": [
    {
     "name": "stdout",
     "output_type": "stream",
     "text": [
      "+----+-----+\n",
      "|type|count|\n",
      "+----+-----+\n",
      "|   F|   36|\n",
      "|  NF|   43|\n",
      "+----+-----+\n",
      "\n"
     ]
    }
   ],
   "source": [
    "test1.filter(col('match_count')>0).groupby('type').count().show()"
   ]
  },
  {
   "cell_type": "code",
   "execution_count": 24,
   "metadata": {},
   "outputs": [
    {
     "name": "stdout",
     "output_type": "stream",
     "text": [
      "+----+--------------------+\n",
      "|type|      avg(F_measure)|\n",
      "+----+--------------------+\n",
      "|   F| 0.08867325662662043|\n",
      "|null|                 0.0|\n",
      "|  NF|0.009492620439988862|\n",
      "+----+--------------------+\n",
      "\n"
     ]
    }
   ],
   "source": [
    "test1.groupby('type').agg(avg('F_measure')).show()"
   ]
  },
  {
   "cell_type": "code",
   "execution_count": 25,
   "metadata": {},
   "outputs": [
    {
     "name": "stdout",
     "output_type": "stream",
     "text": [
      "+-------+--------------------+----------+----+\n",
      "|User_ID|          Product_ID|prediction|type|\n",
      "+-------+--------------------+----------+----+\n",
      "|     26|     [13, 106, 2510]|        []|  NF|\n",
      "|     29|[6840, 5530, 553,...|        []|  NF|\n",
      "|    474|[65833, 28897, 25...|        []|  NF|\n",
      "|    964|[1380, 12951, 13482]|        []|  NF|\n",
      "|   1677|        [1322, 8417]|        []|  NF|\n",
      "|   1697|         [9164, 403]|        []|  NF|\n",
      "|   1806|   [478, 68948, 352]|        []|  NF|\n",
      "|   1950|[4966, 88334, 140...|        []|  NF|\n",
      "|   2040|[2028, 3150, 1543...|        []|  NF|\n",
      "|   2214|[3761, 156435, 17...|        []|   F|\n",
      "|   2250|[33297, 14, 36238...|        []|  NF|\n",
      "|   2453|       [1213, 16910]|        []|  NF|\n",
      "|   2509|[1624, 12875, 43513]|        []|  NF|\n",
      "|   2927|[65869, 51415, 75...|        []|  NF|\n",
      "|   3091|        [683, 10460]|        []|  NF|\n",
      "|   3506|     [1346, 2994, 3]|        []|  NF|\n",
      "|   4590|              [1614]|        []|  NF|\n",
      "|   4823|[5108, 16913, 329...|        []|  NF|\n",
      "|   5385|   [74140, 172, 309]|        []|  NF|\n",
      "|   5409|      [13688, 13282]|        []|  NF|\n",
      "+-------+--------------------+----------+----+\n",
      "only showing top 20 rows\n",
      "\n",
      "Time for prediction:162.222757101\n"
     ]
    }
   ],
   "source": [
    "test2 = FPM(groupby, valid_df, minsupport = 0.0000085 , minconfidence = 0.3)"
   ]
  },
  {
   "cell_type": "code",
   "execution_count": 26,
   "metadata": {},
   "outputs": [
    {
     "name": "stdout",
     "output_type": "stream",
     "text": [
      "+----+-----+\n",
      "|type|count|\n",
      "+----+-----+\n",
      "|   F|  106|\n",
      "|  NF|  453|\n",
      "+----+-----+\n",
      "\n"
     ]
    }
   ],
   "source": [
    "test2.filter(col('match_count')>0).groupby('type').count().show()"
   ]
  },
  {
   "cell_type": "code",
   "execution_count": 27,
   "metadata": {},
   "outputs": [
    {
     "name": "stdout",
     "output_type": "stream",
     "text": [
      "+----+-------------------+\n",
      "|type|     avg(F_measure)|\n",
      "+----+-------------------+\n",
      "|   F|0.27575305792961574|\n",
      "|null|                0.0|\n",
      "|  NF|  0.099888694362641|\n",
      "+----+-------------------+\n",
      "\n"
     ]
    }
   ],
   "source": [
    "test2.groupby('type').agg(avg('F_measure')).show()"
   ]
  },
  {
   "cell_type": "code",
   "execution_count": 28,
   "metadata": {},
   "outputs": [
    {
     "name": "stdout",
     "output_type": "stream",
     "text": [
      "+-------+--------------------+-------------------+----+\n",
      "|User_ID|          Product_ID|         prediction|type|\n",
      "+-------+--------------------+-------------------+----+\n",
      "|     26|     [13, 106, 2510]|                 []|  NF|\n",
      "|     29|[6840, 5530, 553,...|                 []|  NF|\n",
      "|    474|[65833, 28897, 25...|                 []|  NF|\n",
      "|    964|[1380, 12951, 13482]|                 []|  NF|\n",
      "|   1677|        [1322, 8417]|                 []|  NF|\n",
      "|   1697|         [9164, 403]|                 []|  NF|\n",
      "|   1806|   [478, 68948, 352]|                 []|  NF|\n",
      "|   1950|[4966, 88334, 140...|                 []|  NF|\n",
      "|   2040|[2028, 3150, 1543...|                 []|  NF|\n",
      "|   2214|[3761, 156435, 17...|[1315, 435, 6, 221]|   F|\n",
      "|   2250|[33297, 14, 36238...|              [633]|  NF|\n",
      "|   2453|       [1213, 16910]|                 []|  NF|\n",
      "|   2509|[1624, 12875, 43513]|                 []|  NF|\n",
      "|   2927|[65869, 51415, 75...|                 []|  NF|\n",
      "|   3091|        [683, 10460]|                 []|  NF|\n",
      "|   3506|     [1346, 2994, 3]|                 []|  NF|\n",
      "|   4590|              [1614]|                 []|  NF|\n",
      "|   4823|[5108, 16913, 329...|              [250]|  NF|\n",
      "|   5385|   [74140, 172, 309]|                 []|  NF|\n",
      "|   5409|      [13688, 13282]|                 []|  NF|\n",
      "+-------+--------------------+-------------------+----+\n",
      "only showing top 20 rows\n",
      "\n",
      "Time for prediction:158.850996971\n"
     ]
    }
   ],
   "source": [
    "test3 = FPM(groupby, valid_df, minsupport = 0.0000085 , minconfidence = 0.1)"
   ]
  },
  {
   "cell_type": "code",
   "execution_count": 29,
   "metadata": {},
   "outputs": [
    {
     "name": "stdout",
     "output_type": "stream",
     "text": [
      "+----+-----+\n",
      "|type|count|\n",
      "+----+-----+\n",
      "|   F|  582|\n",
      "|  NF| 3648|\n",
      "+----+-----+\n",
      "\n"
     ]
    }
   ],
   "source": [
    "test3.filter(col('match_count')>0).groupby('type').count().show()"
   ]
  },
  {
   "cell_type": "code",
   "execution_count": 30,
   "metadata": {},
   "outputs": [
    {
     "name": "stdout",
     "output_type": "stream",
     "text": [
      "+----+------------------+\n",
      "|type|    avg(F_measure)|\n",
      "+----+------------------+\n",
      "|   F|1.3067843318413719|\n",
      "|null|               0.0|\n",
      "|  NF|0.6757563193627745|\n",
      "+----+------------------+\n",
      "\n"
     ]
    }
   ],
   "source": [
    "test3.groupby('type').agg(avg('F_measure')).show()"
   ]
  },
  {
   "cell_type": "code",
   "execution_count": 31,
   "metadata": {},
   "outputs": [
    {
     "name": "stdout",
     "output_type": "stream",
     "text": [
      "+-------+--------------------+----------+----+\n",
      "|User_ID|          Product_ID|prediction|type|\n",
      "+-------+--------------------+----------+----+\n",
      "|     26|     [13, 106, 2510]|        []|  NF|\n",
      "|     29|[6840, 5530, 553,...|        []|  NF|\n",
      "|    474|[65833, 28897, 25...|        []|  NF|\n",
      "|    964|[1380, 12951, 13482]|        []|  NF|\n",
      "|   1677|        [1322, 8417]|        []|  NF|\n",
      "|   1697|         [9164, 403]|        []|  NF|\n",
      "|   1806|   [478, 68948, 352]|        []|  NF|\n",
      "|   1950|[4966, 88334, 140...|        []|  NF|\n",
      "|   2040|[2028, 3150, 1543...|        []|  NF|\n",
      "|   2214|[3761, 156435, 17...|        []|   F|\n",
      "|   2250|[33297, 14, 36238...|        []|  NF|\n",
      "|   2453|       [1213, 16910]|        []|  NF|\n",
      "|   2509|[1624, 12875, 43513]|        []|  NF|\n",
      "|   2927|[65869, 51415, 75...|        []|  NF|\n",
      "|   3091|        [683, 10460]|        []|  NF|\n",
      "|   3506|     [1346, 2994, 3]|        []|  NF|\n",
      "|   4590|              [1614]|        []|  NF|\n",
      "|   4823|[5108, 16913, 329...|        []|  NF|\n",
      "|   5385|   [74140, 172, 309]|        []|  NF|\n",
      "|   5409|      [13688, 13282]|        []|  NF|\n",
      "+-------+--------------------+----------+----+\n",
      "only showing top 20 rows\n",
      "\n",
      "Time for prediction:124.379374981\n"
     ]
    }
   ],
   "source": [
    "test4 = FPM(groupby, valid_df, minsupport = 0.00002 , minconfidence = 0.5)"
   ]
  },
  {
   "cell_type": "code",
   "execution_count": 32,
   "metadata": {},
   "outputs": [
    {
     "name": "stdout",
     "output_type": "stream",
     "text": [
      "+----+-----+\n",
      "|type|count|\n",
      "+----+-----+\n",
      "|   F|    5|\n",
      "|  NF|   11|\n",
      "+----+-----+\n",
      "\n"
     ]
    }
   ],
   "source": [
    "test4.filter(col('match_count')>0).groupby('type').count().show()"
   ]
  },
  {
   "cell_type": "code",
   "execution_count": 33,
   "metadata": {},
   "outputs": [
    {
     "name": "stdout",
     "output_type": "stream",
     "text": [
      "+----+--------------------+\n",
      "|type|      avg(F_measure)|\n",
      "+----+--------------------+\n",
      "|   F|0.010360570743199172|\n",
      "|null|                 0.0|\n",
      "|  NF|0.002637844611528...|\n",
      "+----+--------------------+\n",
      "\n"
     ]
    }
   ],
   "source": [
    "test4.groupby('type').agg(avg('F_measure')).show()"
   ]
  },
  {
   "cell_type": "code",
   "execution_count": 34,
   "metadata": {},
   "outputs": [
    {
     "name": "stdout",
     "output_type": "stream",
     "text": [
      "+-------+--------------------+----------+----+\n",
      "|User_ID|          Product_ID|prediction|type|\n",
      "+-------+--------------------+----------+----+\n",
      "|     26|     [13, 106, 2510]|        []|  NF|\n",
      "|     29|[6840, 5530, 553,...|        []|  NF|\n",
      "|    474|[65833, 28897, 25...|        []|  NF|\n",
      "|    964|[1380, 12951, 13482]|        []|  NF|\n",
      "|   1677|        [1322, 8417]|        []|  NF|\n",
      "|   1697|         [9164, 403]|        []|  NF|\n",
      "|   1806|   [478, 68948, 352]|        []|  NF|\n",
      "|   1950|[4966, 88334, 140...|        []|  NF|\n",
      "|   2040|[2028, 3150, 1543...|        []|  NF|\n",
      "|   2214|[3761, 156435, 17...|        []|   F|\n",
      "|   2250|[33297, 14, 36238...|        []|  NF|\n",
      "|   2453|       [1213, 16910]|        []|  NF|\n",
      "|   2509|[1624, 12875, 43513]|        []|  NF|\n",
      "|   2927|[65869, 51415, 75...|        []|  NF|\n",
      "|   3091|        [683, 10460]|        []|  NF|\n",
      "|   3506|     [1346, 2994, 3]|        []|  NF|\n",
      "|   4590|              [1614]|        []|  NF|\n",
      "|   4823|[5108, 16913, 329...|        []|  NF|\n",
      "|   5385|   [74140, 172, 309]|        []|  NF|\n",
      "|   5409|      [13688, 13282]|        []|  NF|\n",
      "+-------+--------------------+----------+----+\n",
      "only showing top 20 rows\n",
      "\n",
      "Time for prediction:132.559521914\n"
     ]
    }
   ],
   "source": [
    "test5 = FPM(groupby, valid_df, minsupport = 0.00002 , minconfidence = 0.3)"
   ]
  },
  {
   "cell_type": "code",
   "execution_count": 35,
   "metadata": {},
   "outputs": [
    {
     "name": "stdout",
     "output_type": "stream",
     "text": [
      "+----+-----+\n",
      "|type|count|\n",
      "+----+-----+\n",
      "|   F|   42|\n",
      "|  NF|  291|\n",
      "+----+-----+\n",
      "\n"
     ]
    }
   ],
   "source": [
    "test5.filter(col('match_count')>0).groupby('type').count().show()"
   ]
  },
  {
   "cell_type": "code",
   "execution_count": 36,
   "metadata": {},
   "outputs": [
    {
     "name": "stdout",
     "output_type": "stream",
     "text": [
      "+----+-------------------+\n",
      "|type|     avg(F_measure)|\n",
      "+----+-------------------+\n",
      "|   F|0.11536691307064968|\n",
      "|null|                0.0|\n",
      "|  NF|  0.066613643783789|\n",
      "+----+-------------------+\n",
      "\n"
     ]
    }
   ],
   "source": [
    "test5.groupby('type').agg(avg('F_measure')).show()"
   ]
  },
  {
   "cell_type": "code",
   "execution_count": 37,
   "metadata": {},
   "outputs": [
    {
     "name": "stdout",
     "output_type": "stream",
     "text": [
      "+-------+--------------------+----------+----+\n",
      "|User_ID|          Product_ID|prediction|type|\n",
      "+-------+--------------------+----------+----+\n",
      "|     26|     [13, 106, 2510]|        []|  NF|\n",
      "|     29|[6840, 5530, 553,...|        []|  NF|\n",
      "|    474|[65833, 28897, 25...|        []|  NF|\n",
      "|    964|[1380, 12951, 13482]|        []|  NF|\n",
      "|   1677|        [1322, 8417]|        []|  NF|\n",
      "|   1697|         [9164, 403]|        []|  NF|\n",
      "|   1806|   [478, 68948, 352]|        []|  NF|\n",
      "|   1950|[4966, 88334, 140...|        []|  NF|\n",
      "|   2040|[2028, 3150, 1543...|        []|  NF|\n",
      "|   2214|[3761, 156435, 17...|       [6]|   F|\n",
      "|   2250|[33297, 14, 36238...|     [633]|  NF|\n",
      "|   2453|       [1213, 16910]|        []|  NF|\n",
      "|   2509|[1624, 12875, 43513]|        []|  NF|\n",
      "|   2927|[65869, 51415, 75...|        []|  NF|\n",
      "|   3091|        [683, 10460]|        []|  NF|\n",
      "|   3506|     [1346, 2994, 3]|        []|  NF|\n",
      "|   4590|              [1614]|        []|  NF|\n",
      "|   4823|[5108, 16913, 329...|     [250]|  NF|\n",
      "|   5385|   [74140, 172, 309]|        []|  NF|\n",
      "|   5409|      [13688, 13282]|        []|  NF|\n",
      "+-------+--------------------+----------+----+\n",
      "only showing top 20 rows\n",
      "\n",
      "Time for prediction:122.639169931\n"
     ]
    }
   ],
   "source": [
    "test6 = FPM(groupby, valid_df, minsupport = 0.00002 , minconfidence = 0.1)"
   ]
  },
  {
   "cell_type": "code",
   "execution_count": 38,
   "metadata": {},
   "outputs": [
    {
     "name": "stdout",
     "output_type": "stream",
     "text": [
      "+----+-----+\n",
      "|type|count|\n",
      "+----+-----+\n",
      "|   F|  287|\n",
      "|  NF| 2528|\n",
      "+----+-----+\n",
      "\n"
     ]
    }
   ],
   "source": [
    "test6.filter(col('match_count')>0).groupby('type').count().show()"
   ]
  },
  {
   "cell_type": "code",
   "execution_count": 39,
   "metadata": {},
   "outputs": [
    {
     "name": "stdout",
     "output_type": "stream",
     "text": [
      "+----+------------------+\n",
      "|type|    avg(F_measure)|\n",
      "+----+------------------+\n",
      "|   F| 0.740806251177769|\n",
      "|null|               0.0|\n",
      "|  NF|0.4841148558197569|\n",
      "+----+------------------+\n",
      "\n"
     ]
    }
   ],
   "source": [
    "test6.groupby('type').agg(avg('F_measure')).show()"
   ]
  },
  {
   "cell_type": "code",
   "execution_count": null,
   "metadata": {
    "collapsed": true
   },
   "outputs": [],
   "source": [
    "#test7 = FPM(groupby, valid_df, minsupport = 0.000005 , minconfidence = 0.5)"
   ]
  },
  {
   "cell_type": "markdown",
   "metadata": {},
   "source": [
    "test7 caused connection error, largely because of the parameters minsupport = 0.000005."
   ]
  },
  {
   "cell_type": "code",
   "execution_count": 11,
   "metadata": {},
   "outputs": [
    {
     "name": "stdout",
     "output_type": "stream",
     "text": [
      "+-------+--------------------+--------------------+----+\n",
      "|User_ID|          Product_ID|          prediction|type|\n",
      "+-------+--------------------+--------------------+----+\n",
      "|     26|     [13, 106, 2510]|                  []|  NF|\n",
      "|     29|[6840, 5530, 553,...|                  []|  NF|\n",
      "|    474|[65833, 28897, 25...|                  []|  NF|\n",
      "|    964|[1380, 12951, 13482]|                  []|  NF|\n",
      "|   1677|        [1322, 8417]|                  []|  NF|\n",
      "|   1697|         [9164, 403]|                  []|  NF|\n",
      "|   1806|   [478, 68948, 352]|                  []|  NF|\n",
      "|   1950|[4966, 88334, 140...|                  []|  NF|\n",
      "|   2040|[2028, 3150, 1543...|                  []|  NF|\n",
      "|   2214|[3761, 156435, 17...|[1315, 435, 1804,...|   F|\n",
      "|   2250|[33297, 14, 36238...|               [633]|  NF|\n",
      "|   2453|       [1213, 16910]|                  []|  NF|\n",
      "|   2509|[1624, 12875, 43513]|                  []|  NF|\n",
      "|   2927|[65869, 51415, 75...|                  []|  NF|\n",
      "|   3091|        [683, 10460]|                  []|  NF|\n",
      "|   3506|     [1346, 2994, 3]|                  []|  NF|\n",
      "|   4590|              [1614]|                  []|  NF|\n",
      "|   4823|[5108, 16913, 329...|               [250]|  NF|\n",
      "|   5385|   [74140, 172, 309]|                  []|  NF|\n",
      "|   5409|      [13688, 13282]|                  []|  NF|\n",
      "+-------+--------------------+--------------------+----+\n",
      "only showing top 20 rows\n",
      "\n",
      "Time for prediction:192.482487917\n"
     ]
    }
   ],
   "source": [
    "test8 = FPM(groupby, valid_df, minsupport = 0.000007 , minconfidence = 0.1)"
   ]
  },
  {
   "cell_type": "code",
   "execution_count": 12,
   "metadata": {},
   "outputs": [
    {
     "name": "stdout",
     "output_type": "stream",
     "text": [
      "+----+------+\n",
      "|type| count|\n",
      "+----+------+\n",
      "|   F|  6733|\n",
      "|null| 18322|\n",
      "|  NF|360000|\n",
      "+----+------+\n",
      "\n"
     ]
    }
   ],
   "source": [
    "test8.groupby('type').count().show()  # In validation Set"
   ]
  },
  {
   "cell_type": "code",
   "execution_count": 13,
   "metadata": {},
   "outputs": [
    {
     "name": "stdout",
     "output_type": "stream",
     "text": [
      "+----+-----+\n",
      "|type|count|\n",
      "+----+-----+\n",
      "|   F|  671|\n",
      "|  NF| 3992|\n",
      "+----+-----+\n",
      "\n"
     ]
    }
   ],
   "source": [
    "test8.filter(col('match_count')>0).groupby('type').count().show()"
   ]
  },
  {
   "cell_type": "code",
   "execution_count": 14,
   "metadata": {
    "scrolled": true
   },
   "outputs": [
    {
     "name": "stdout",
     "output_type": "stream",
     "text": [
      "+----+------------------+\n",
      "|type|    avg(F_measure)|\n",
      "+----+------------------+\n",
      "|   F|1.4346585621451111|\n",
      "|null|               0.0|\n",
      "|  NF|0.7277510647917694|\n",
      "+----+------------------+\n",
      "\n"
     ]
    }
   ],
   "source": [
    "test8.groupby('type').agg(avg('F_measure')).show()"
   ]
  },
  {
   "cell_type": "code",
   "execution_count": null,
   "metadata": {
    "collapsed": true
   },
   "outputs": [],
   "source": [
    "#test9 = FPM(groupby, valid_df, minsupport = 0.0000065 , minconfidence = 0.1) task failed"
   ]
  },
  {
   "cell_type": "markdown",
   "metadata": {
    "collapsed": true
   },
   "source": [
    "For the purpose of having at least one correct recommendation/prediction for more users, (minsupport = 0.000007, minconfidence = 0.1) is selected."
   ]
  },
  {
   "cell_type": "code",
   "execution_count": null,
   "metadata": {
    "collapsed": true
   },
   "outputs": [],
   "source": [
    "#prediction = spark.read.json(\"/Users/zhichaoyang/Desktop/personalization_final/prediction_from_model.json\")"
   ]
  },
  {
   "cell_type": "code",
   "execution_count": null,
   "metadata": {
    "collapsed": true
   },
   "outputs": [],
   "source": []
  },
  {
   "cell_type": "code",
   "execution_count": null,
   "metadata": {
    "collapsed": true
   },
   "outputs": [],
   "source": []
  },
  {
   "cell_type": "code",
   "execution_count": null,
   "metadata": {
    "collapsed": true
   },
   "outputs": [],
   "source": []
  },
  {
   "cell_type": "markdown",
   "metadata": {},
   "source": [
    "### IV. Validation Set Product Coverage"
   ]
  },
  {
   "cell_type": "code",
   "execution_count": 58,
   "metadata": {},
   "outputs": [
    {
     "name": "stdout",
     "output_type": "stream",
     "text": [
      "+-------+--------------------+--------------------+----+\n",
      "|User_ID|          Product_ID|          prediction|type|\n",
      "+-------+--------------------+--------------------+----+\n",
      "|     26|     [13, 106, 2510]|                  []|  NF|\n",
      "|     29|[6840, 5530, 553,...|                  []|  NF|\n",
      "|    474|[65833, 28897, 25...|                  []|  NF|\n",
      "|    964|[1380, 12951, 13482]|                  []|  NF|\n",
      "|   1677|        [1322, 8417]|                  []|  NF|\n",
      "|   1697|         [9164, 403]|                  []|  NF|\n",
      "|   1806|   [478, 68948, 352]|                  []|  NF|\n",
      "|   1950|[4966, 88334, 140...|                  []|  NF|\n",
      "|   2040|[2028, 3150, 1543...|                  []|  NF|\n",
      "|   2214|[3761, 156435, 17...|[1315, 435, 1804,...|   F|\n",
      "|   2250|[33297, 14, 36238...|               [633]|  NF|\n",
      "|   2453|       [1213, 16910]|                  []|  NF|\n",
      "|   2509|[1624, 12875, 43513]|                  []|  NF|\n",
      "|   2927|[65869, 51415, 75...|                  []|  NF|\n",
      "|   3091|        [683, 10460]|                  []|  NF|\n",
      "|   3506|     [1346, 2994, 3]|                  []|  NF|\n",
      "|   4590|              [1614]|                  []|  NF|\n",
      "|   4823|[5108, 16913, 329...|               [250]|  NF|\n",
      "|   5385|   [74140, 172, 309]|                  []|  NF|\n",
      "|   5409|      [13688, 13282]|                  []|  NF|\n",
      "+-------+--------------------+--------------------+----+\n",
      "only showing top 20 rows\n",
      "\n",
      "Time for prediction:207.231353045\n"
     ]
    }
   ],
   "source": [
    "vali_result = FPM(groupby, valid_df, minsupport = 0.000007 , minconfidence = 0.1)"
   ]
  },
  {
   "cell_type": "code",
   "execution_count": 65,
   "metadata": {},
   "outputs": [
    {
     "name": "stdout",
     "output_type": "stream",
     "text": [
      "+-------+----+--------------------+--------------------+-----------+---------+------+------------------+\n",
      "|User_ID|type|              Bought|          prediction|match_count|precision|recall|         F_measure|\n",
      "+-------+----+--------------------+--------------------+-----------+---------+------+------------------+\n",
      "|     29|  NF|              [3959]|                  []|          0|      0.0|   0.0|                 0|\n",
      "|    474|  NF|              [5540]|                  []|          0|      0.0|   0.0|                 0|\n",
      "|   1677|  NF|             [32179]|                  []|          0|      0.0|   0.0|                 0|\n",
      "|   1806|  NF|              [6459]|                  []|          0|      0.0|   0.0|                 0|\n",
      "|   2040|  NF|             [47560]|                  []|          0|      0.0|   0.0|                 0|\n",
      "|   2214|   F|[28167, 22799, 89...|[1315, 435, 1804,...|          0|      0.0|   0.0|                 0|\n",
      "|   2453|  NF|             [16365]|                  []|          0|      0.0|   0.0|                 0|\n",
      "|   2509|  NF|             [31684]|                  []|          0|      0.0|   0.0|                 0|\n",
      "|   3764|null|      [75067, 25669]|                null|          0|      0.0|   0.0|                 0|\n",
      "|   4590|  NF|              [8218]|                  []|          0|      0.0|   0.0|                 0|\n",
      "|   4823|  NF|[10403, 2852, 720...|               [250]|          0|      0.0|   0.0|                 0|\n",
      "|   4894|null|        [1786, 5573]|                null|          0|      0.0|   0.0|                 0|\n",
      "|   5409|  NF|              [6125]|                  []|          0|      0.0|   0.0|                 0|\n",
      "|   6721|  NF|            [122689]|                  []|          0|      0.0|   0.0|                 0|\n",
      "|   7279|  NF|             [51612]|               [727]|          0|      0.0|   0.0|                 0|\n",
      "|   7747|  NF|               [732]|           [7, 1625]|          0|      0.0|   0.0|                 0|\n",
      "|   8075|  NF|             [27557]|                  []|          0|      0.0|   0.0|                 0|\n",
      "|   8440|  NF|[14334, 22, 15012...|            [0, 201]|          1|     50.0|  20.0|28.571428571428573|\n",
      "|   8484|  NF|              [4851]|    [1543, 454, 376]|          0|      0.0|   0.0|                 0|\n",
      "|   9233|  NF|        [4037, 1054]|                  []|          0|      0.0|   0.0|                 0|\n",
      "+-------+----+--------------------+--------------------+-----------+---------+------+------------------+\n",
      "only showing top 20 rows\n",
      "\n"
     ]
    }
   ],
   "source": [
    "vali_result.show()"
   ]
  },
  {
   "cell_type": "code",
   "execution_count": 59,
   "metadata": {
    "collapsed": true
   },
   "outputs": [],
   "source": [
    "check = vali_result.select('User_ID','Bought','prediction')"
   ]
  },
  {
   "cell_type": "code",
   "execution_count": 60,
   "metadata": {
    "collapsed": true
   },
   "outputs": [],
   "source": [
    "ind = udf(lambda uid: 1, IntegerType())\n",
    "check = check.withColumn('index', ind(col('User_ID')))"
   ]
  },
  {
   "cell_type": "code",
   "execution_count": 61,
   "metadata": {
    "collapsed": true
   },
   "outputs": [],
   "source": [
    "product_check = check.groupBy('index').agg(collect_list('prediction'))"
   ]
  },
  {
   "cell_type": "code",
   "execution_count": 62,
   "metadata": {
    "collapsed": true
   },
   "outputs": [],
   "source": [
    "product_check_rdd = product_check.rdd"
   ]
  },
  {
   "cell_type": "code",
   "execution_count": 63,
   "metadata": {
    "collapsed": true
   },
   "outputs": [],
   "source": [
    "product_check_rdd = product_check_rdd.flatMap(lambda x: [item for sublist in x[1] for item in sublist ])"
   ]
  },
  {
   "cell_type": "code",
   "execution_count": 64,
   "metadata": {},
   "outputs": [
    {
     "data": {
      "text/plain": [
       "1004"
      ]
     },
     "execution_count": 64,
     "metadata": {},
     "output_type": "execute_result"
    }
   ],
   "source": [
    "product_check_rdd.distinct().count() # 1004 distinct products in total in the recommendation."
   ]
  },
  {
   "cell_type": "code",
   "execution_count": null,
   "metadata": {
    "collapsed": true
   },
   "outputs": [],
   "source": []
  },
  {
   "cell_type": "markdown",
   "metadata": {},
   "source": [
    "### V. Further Extend"
   ]
  },
  {
   "cell_type": "markdown",
   "metadata": {},
   "source": [
    "Since the FPM does not provide recommendation for all users and it covers only a small part of items, the model is furter extended by recommending a combination of popular items and other items."
   ]
  },
  {
   "cell_type": "code",
   "execution_count": 22,
   "metadata": {},
   "outputs": [
    {
     "name": "stdout",
     "output_type": "stream",
     "text": [
      "+----------+--------------+\n",
      "|Product_ID|count(User_ID)|\n",
      "+----------+--------------+\n",
      "|       474|           338|\n",
      "|      3091|           100|\n",
      "|     13638|            24|\n",
      "|      2529|           109|\n",
      "|      4894|            65|\n",
      "|     13248|            25|\n",
      "|      3506|            89|\n",
      "|    102613|             3|\n",
      "|    117936|             2|\n",
      "|     74185|             4|\n",
      "|       964|           218|\n",
      "|        26|          1468|\n",
      "|      1806|           136|\n",
      "|        29|          1457|\n",
      "|     18295|            14|\n",
      "|     13518|            27|\n",
      "|      2453|           106|\n",
      "|     23019|            18|\n",
      "|      1697|           153|\n",
      "|     38878|             9|\n",
      "+----------+--------------+\n",
      "only showing top 20 rows\n",
      "\n"
     ]
    }
   ],
   "source": [
    "groupby_product = train_df.groupBy('Product_ID').agg(count('User_ID')).cache()\n",
    "groupby_product.show()"
   ]
  },
  {
   "cell_type": "code",
   "execution_count": 23,
   "metadata": {},
   "outputs": [],
   "source": [
    "F_item = groupby_product.filter(col('count(User_ID)') > 100).select('Product_ID').collect()\n",
    "NF_item = groupby_product.filter(col('count(User_ID)') <= 100).select('Product_ID').collect()"
   ]
  },
  {
   "cell_type": "code",
   "execution_count": 137,
   "metadata": {},
   "outputs": [
    {
     "data": {
      "text/plain": [
       "2804"
      ]
     },
     "execution_count": 137,
     "metadata": {},
     "output_type": "execute_result"
    }
   ],
   "source": [
    "len(F_item)  # 2804 popular items"
   ]
  },
  {
   "cell_type": "code",
   "execution_count": 138,
   "metadata": {},
   "outputs": [
    {
     "data": {
      "text/plain": [
       "184155"
      ]
     },
     "execution_count": 138,
     "metadata": {},
     "output_type": "execute_result"
    }
   ],
   "source": [
    "len(NF_item)"
   ]
  },
  {
   "cell_type": "code",
   "execution_count": 24,
   "metadata": {
    "collapsed": true
   },
   "outputs": [],
   "source": [
    "fpGrowth = FPGrowth(itemsCol=\"Product_ID\", minSupport= 0.000007, minConfidence=0.1)\n",
    "model = fpGrowth.fit(groupby)\n",
    "prediction = model.transform(groupby)"
   ]
  },
  {
   "cell_type": "code",
   "execution_count": 25,
   "metadata": {},
   "outputs": [
    {
     "name": "stdout",
     "output_type": "stream",
     "text": [
      "+-------+--------------------+--------------------+\n",
      "|User_ID|          Product_ID|          prediction|\n",
      "+-------+--------------------+--------------------+\n",
      "|     26|     [13, 106, 2510]|                  []|\n",
      "|     29|[6840, 5530, 553,...|                  []|\n",
      "|    474|[65833, 28897, 25...|                  []|\n",
      "|    964|[1380, 12951, 13482]|                  []|\n",
      "|   1677|        [1322, 8417]|                  []|\n",
      "|   1697|         [9164, 403]|                  []|\n",
      "|   1806|   [478, 68948, 352]|                  []|\n",
      "|   1950|[4966, 88334, 140...|                  []|\n",
      "|   2040|[2028, 3150, 1543...|                  []|\n",
      "|   2214|[3761, 156435, 17...|[1315, 435, 1804,...|\n",
      "|   2250|[33297, 14, 36238...|               [633]|\n",
      "|   2453|       [1213, 16910]|                  []|\n",
      "|   2509|[1624, 12875, 43513]|                  []|\n",
      "|   2927|[65869, 51415, 75...|                  []|\n",
      "|   3091|        [683, 10460]|                  []|\n",
      "|   3506|     [1346, 2994, 3]|                  []|\n",
      "|   4590|              [1614]|                  []|\n",
      "|   4823|[5108, 16913, 329...|               [250]|\n",
      "|   5385|   [74140, 172, 309]|                  []|\n",
      "|   5409|      [13688, 13282]|                  []|\n",
      "+-------+--------------------+--------------------+\n",
      "only showing top 20 rows\n",
      "\n"
     ]
    }
   ],
   "source": [
    "prediction.show()  # Initial prediction from FPM model"
   ]
  },
  {
   "cell_type": "code",
   "execution_count": 38,
   "metadata": {
    "collapsed": true
   },
   "outputs": [],
   "source": [
    "import random\n",
    "def extension(array):  # Randomly recommend 8 items from popular products and 5 items from other products. Remove products that have been purchased.\n",
    "    if array[0] == None:\n",
    "        lst = []\n",
    "    else:\n",
    "        lst =  array[0]\n",
    "        \n",
    "    for i in range(8):\n",
    "        index = random.randint(0,2803)\n",
    "        if F_item[index].Product_ID not in lst and F_item[index].Product_ID not in array[1] : #and F_item[index].Product_ID not in array[1] \n",
    "            lst.append(F_item[index].Product_ID)\n",
    "    for j in range(5):\n",
    "        index2 = random.randint(0,184154)\n",
    "        if NF_item[index2].Product_ID not in lst and NF_item[index].Product_ID not in array[1]  : #and NF_item[index].Product_ID not in array[1] \n",
    "            lst.append(NF_item[index2].Product_ID)   \n",
    "    return lst\n",
    "\n",
    "extension_udf = udf(extension)\n",
    "prediction_ext = prediction.withColumn('prediction', extension_udf(array('prediction','Product_ID')))"
   ]
  },
  {
   "cell_type": "code",
   "execution_count": 42,
   "metadata": {},
   "outputs": [
    {
     "name": "stdout",
     "output_type": "stream",
     "text": [
      "+-------+--------------------+--------------------+----+\n",
      "|User_ID|          Product_ID|          prediction|type|\n",
      "+-------+--------------------+--------------------+----+\n",
      "|     26|     [13, 106, 2510]|[1134, 964, 1798,...|  NF|\n",
      "|     29|[6840, 5530, 553,...|[2759, 2924, 436,...|  NF|\n",
      "|    474|[65833, 28897, 25...|[1698, 1376, 1482...|  NF|\n",
      "|    964|[1380, 12951, 13482]|[2652, 149, 1262,...|  NF|\n",
      "|   1677|        [1322, 8417]|[1374, 1853, 2298...|  NF|\n",
      "|   1697|         [9164, 403]|[672, 1918, 1644,...|  NF|\n",
      "|   1806|   [478, 68948, 352]|[749, 2919, 1976,...|  NF|\n",
      "|   1950|[4966, 88334, 140...|[1198, 3131, 290,...|  NF|\n",
      "|   2040|[2028, 3150, 1543...|[706, 327, 2680, ...|  NF|\n",
      "|   2214|[3761, 156435, 17...|[1315, 435, 1804,...|   F|\n",
      "|   2250|[33297, 14, 36238...|[633, 1600, 1127,...|  NF|\n",
      "|   2453|       [1213, 16910]|[1811, 1083, 1938...|  NF|\n",
      "|   2509|[1624, 12875, 43513]|[14, 955, 2682, 4...|  NF|\n",
      "|   2927|[65869, 51415, 75...|[2725, 2340, 571,...|  NF|\n",
      "|   3091|        [683, 10460]|[510, 2319, 48, 1...|  NF|\n",
      "|   3506|     [1346, 2994, 3]|[1336, 1159, 2298...|  NF|\n",
      "|   4590|              [1614]|[1972, 1960, 407,...|  NF|\n",
      "|   4823|[5108, 16913, 329...|[250, 1718, 1342,...|  NF|\n",
      "|   5385|   [74140, 172, 309]|[938, 85, 2122, 2...|  NF|\n",
      "|   5409|      [13688, 13282]|[1224, 579, 632, ...|  NF|\n",
      "+-------+--------------------+--------------------+----+\n",
      "only showing top 20 rows\n",
      "\n"
     ]
    }
   ],
   "source": [
    "prediction_ext.show()"
   ]
  },
  {
   "cell_type": "code",
   "execution_count": null,
   "metadata": {
    "collapsed": true
   },
   "outputs": [],
   "source": [
    "schema = ArrayType(StringType(), containsNull=False)\n",
    "udf_foo = udf(lambda x:x, schema)\n",
    "prediction_ext = prediction_ext.withColumn(\"prediction\",udf_foo(\"prediction\"))"
   ]
  },
  {
   "cell_type": "markdown",
   "metadata": {},
   "source": [
    "#### Results On Validation Set"
   ]
  },
  {
   "cell_type": "code",
   "execution_count": 52,
   "metadata": {
    "collapsed": true
   },
   "outputs": [],
   "source": [
    "prediction_ext = prediction_ext.withColumn(\"type\", user_type_udf(col('Product_ID')))\n",
    "groupby_valid = valid_df.groupBy(\"User_ID\").agg(collect_list(\"Product_ID\"))\n",
    "groupby_valid = groupby_valid.select(col(\"User_ID\").alias(\"User_ID\"), col(\"collect_list(Product_ID)\").alias(\"Bought\"))"
   ]
  },
  {
   "cell_type": "code",
   "execution_count": 53,
   "metadata": {
    "collapsed": true
   },
   "outputs": [],
   "source": [
    "df1 = groupby_valid.alias('df1')\n",
    "df2 = prediction_ext.alias('df2')\n",
    "result_ext = df1.join(df2, (df1.User_ID == df2.User_ID), \"left_outer\").select(df1.User_ID, df2.type, df1.Bought, df2.prediction)"
   ]
  },
  {
   "cell_type": "code",
   "execution_count": 54,
   "metadata": {
    "collapsed": true
   },
   "outputs": [],
   "source": [
    "res_ext = result_ext.withColumn('match_count', match_count_udf(array('Bought','prediction')))\n",
    "res_ext = res_ext.withColumn('precision', precision_udf(array('Bought','prediction')))\n",
    "res_ext = res_ext.withColumn('recall', recall_udf(array('Bought','prediction')))\n",
    "res_ext = res_ext.withColumn('F_measure', F_udf(array('Bought','prediction')))"
   ]
  },
  {
   "cell_type": "code",
   "execution_count": 55,
   "metadata": {},
   "outputs": [
    {
     "name": "stdout",
     "output_type": "stream",
     "text": [
      "+----+-----+\n",
      "|type|count|\n",
      "+----+-----+\n",
      "|   F|  712|\n",
      "|  NF| 4572|\n",
      "+----+-----+\n",
      "\n"
     ]
    }
   ],
   "source": [
    "res_ext.filter(col('match_count')>0).groupby('type').count().show()"
   ]
  },
  {
   "cell_type": "code",
   "execution_count": 56,
   "metadata": {},
   "outputs": [
    {
     "name": "stdout",
     "output_type": "stream",
     "text": [
      "+----+-------------------+\n",
      "|type|     avg(F_measure)|\n",
      "+----+-------------------+\n",
      "|   F| 0.7434666578001807|\n",
      "|null|                0.0|\n",
      "|  NF|0.15091490125154816|\n",
      "+----+-------------------+\n",
      "\n"
     ]
    }
   ],
   "source": [
    "res_ext.groupby('type').agg(avg('F_measure')).show()"
   ]
  },
  {
   "cell_type": "markdown",
   "metadata": {},
   "source": [
    "### VI. Apply to the test set"
   ]
  },
  {
   "cell_type": "markdown",
   "metadata": {},
   "source": [
    "#### Step 1. FPM Model"
   ]
  },
  {
   "cell_type": "code",
   "execution_count": 15,
   "metadata": {},
   "outputs": [
    {
     "name": "stdout",
     "output_type": "stream",
     "text": [
      "+-------+--------------------+--------------------+----+\n",
      "|User_ID|          Product_ID|          prediction|type|\n",
      "+-------+--------------------+--------------------+----+\n",
      "|     26|     [13, 106, 2510]|                  []|  NF|\n",
      "|     29|[6840, 5530, 553,...|                  []|  NF|\n",
      "|    474|[65833, 28897, 25...|                  []|  NF|\n",
      "|    964|[1380, 12951, 13482]|                  []|  NF|\n",
      "|   1677|        [1322, 8417]|                  []|  NF|\n",
      "|   1697|         [9164, 403]|                  []|  NF|\n",
      "|   1806|   [478, 68948, 352]|                  []|  NF|\n",
      "|   1950|[4966, 88334, 140...|                  []|  NF|\n",
      "|   2040|[2028, 3150, 1543...|                  []|  NF|\n",
      "|   2214|[3761, 156435, 17...|[1315, 435, 1804,...|   F|\n",
      "|   2250|[33297, 14, 36238...|               [633]|  NF|\n",
      "|   2453|       [1213, 16910]|                  []|  NF|\n",
      "|   2509|[1624, 12875, 43513]|                  []|  NF|\n",
      "|   2927|[65869, 51415, 75...|                  []|  NF|\n",
      "|   3091|        [683, 10460]|                  []|  NF|\n",
      "|   3506|     [1346, 2994, 3]|                  []|  NF|\n",
      "|   4590|              [1614]|                  []|  NF|\n",
      "|   4823|[5108, 16913, 329...|               [250]|  NF|\n",
      "|   5385|   [74140, 172, 309]|                  []|  NF|\n",
      "|   5409|      [13688, 13282]|                  []|  NF|\n",
      "+-------+--------------------+--------------------+----+\n",
      "only showing top 20 rows\n",
      "\n",
      "Time for prediction:171.983226061\n"
     ]
    }
   ],
   "source": [
    "test_set = FPM(groupby, test_df, minsupport = 0.000007 , minconfidence = 0.1)"
   ]
  },
  {
   "cell_type": "code",
   "execution_count": 20,
   "metadata": {},
   "outputs": [
    {
     "name": "stdout",
     "output_type": "stream",
     "text": [
      "+----+------+\n",
      "|type| count|\n",
      "+----+------+\n",
      "|   F|  6727|\n",
      "|null| 18379|\n",
      "|  NF|360781|\n",
      "+----+------+\n",
      "\n"
     ]
    }
   ],
   "source": [
    "test_set.groupby('type').count().show()"
   ]
  },
  {
   "cell_type": "code",
   "execution_count": 16,
   "metadata": {},
   "outputs": [
    {
     "name": "stdout",
     "output_type": "stream",
     "text": [
      "+----+-----+\n",
      "|type|count|\n",
      "+----+-----+\n",
      "|   F|  677|\n",
      "|  NF| 3879|\n",
      "+----+-----+\n",
      "\n"
     ]
    }
   ],
   "source": [
    "test_set.filter(col('match_count')>0).groupby('type').count().show()"
   ]
  },
  {
   "cell_type": "code",
   "execution_count": 17,
   "metadata": {},
   "outputs": [
    {
     "name": "stdout",
     "output_type": "stream",
     "text": [
      "+----+------------------+\n",
      "|type|    avg(F_measure)|\n",
      "+----+------------------+\n",
      "|   F|1.4750507651366502|\n",
      "|null|               0.0|\n",
      "|  NF|0.7010225998641106|\n",
      "+----+------------------+\n",
      "\n"
     ]
    }
   ],
   "source": [
    "test_set.groupby('type').agg(avg('F_measure')).show()"
   ]
  },
  {
   "cell_type": "markdown",
   "metadata": {},
   "source": [
    "#### Step 2."
   ]
  },
  {
   "cell_type": "code",
   "execution_count": 41,
   "metadata": {},
   "outputs": [],
   "source": [
    "prediction_ext = prediction_ext.withColumn(\"type\", user_type_udf(col('Product_ID'))) \n",
    "groupby_test = test_df.groupBy(\"User_ID\").agg(collect_list(\"Product_ID\"))\n",
    "groupby_test = groupby_test.select(col(\"User_ID\").alias(\"User_ID\"), col(\"collect_list(Product_ID)\").alias(\"Bought\"))"
   ]
  },
  {
   "cell_type": "code",
   "execution_count": 43,
   "metadata": {
    "collapsed": true
   },
   "outputs": [],
   "source": [
    "schema = ArrayType(StringType(), containsNull=False)\n",
    "udf_foo = udf(lambda x:x, schema)\n",
    "prediction_ext = prediction_ext.withColumn(\"prediction\",udf_foo(\"prediction\"))"
   ]
  },
  {
   "cell_type": "code",
   "execution_count": 46,
   "metadata": {
    "collapsed": true
   },
   "outputs": [],
   "source": [
    "df1 = groupby_test.alias('df1')\n",
    "df2 = prediction_ext.alias('df2')\n",
    "result_ext = df1.join(df2, (df1.User_ID == df2.User_ID), \"left_outer\").select(df1.User_ID, df2.type, df1.Bought, df2.prediction)"
   ]
  },
  {
   "cell_type": "code",
   "execution_count": 48,
   "metadata": {},
   "outputs": [],
   "source": [
    "res_ext = result_ext.withColumn('match_count', match_count_udf(array('Bought','prediction')))\n",
    "res_ext = res_ext.withColumn('precision', precision_udf(array('Bought','prediction')))\n",
    "res_ext = res_ext.withColumn('recall', recall_udf(array('Bought','prediction')))\n",
    "res_ext = res_ext.withColumn('F_measure', F_udf(array('Bought','prediction')))"
   ]
  },
  {
   "cell_type": "code",
   "execution_count": 50,
   "metadata": {},
   "outputs": [
    {
     "name": "stdout",
     "output_type": "stream",
     "text": [
      "+----+-----+\n",
      "|type|count|\n",
      "+----+-----+\n",
      "|   F|  717|\n",
      "|  NF| 4465|\n",
      "+----+-----+\n",
      "\n"
     ]
    }
   ],
   "source": [
    "res_ext.filter(col('match_count')>0).groupby('type').count().show()"
   ]
  },
  {
   "cell_type": "code",
   "execution_count": 51,
   "metadata": {},
   "outputs": [
    {
     "name": "stdout",
     "output_type": "stream",
     "text": [
      "+----+-------------------+\n",
      "|type|     avg(F_measure)|\n",
      "+----+-------------------+\n",
      "|   F| 0.7674166904161434|\n",
      "|null|                0.0|\n",
      "|  NF|0.14649987738426934|\n",
      "+----+-------------------+\n",
      "\n"
     ]
    }
   ],
   "source": [
    "res_ext.groupby('type').agg(avg('F_measure')).show()"
   ]
  },
  {
   "cell_type": "code",
   "execution_count": null,
   "metadata": {
    "collapsed": true
   },
   "outputs": [],
   "source": []
  },
  {
   "cell_type": "code",
   "execution_count": null,
   "metadata": {
    "collapsed": true
   },
   "outputs": [],
   "source": []
  },
  {
   "cell_type": "code",
   "execution_count": null,
   "metadata": {
    "collapsed": true
   },
   "outputs": [],
   "source": []
  },
  {
   "cell_type": "code",
   "execution_count": null,
   "metadata": {
    "collapsed": true
   },
   "outputs": [],
   "source": []
  },
  {
   "cell_type": "code",
   "execution_count": null,
   "metadata": {
    "collapsed": true
   },
   "outputs": [],
   "source": []
  },
  {
   "cell_type": "code",
   "execution_count": null,
   "metadata": {
    "collapsed": true
   },
   "outputs": [],
   "source": []
  },
  {
   "cell_type": "code",
   "execution_count": null,
   "metadata": {
    "collapsed": true
   },
   "outputs": [],
   "source": []
  }
 ],
 "metadata": {
  "kernelspec": {
   "display_name": "Python 2",
   "language": "python",
   "name": "python2"
  },
  "language_info": {
   "codemirror_mode": {
    "name": "ipython",
    "version": 2
   },
   "file_extension": ".py",
   "mimetype": "text/x-python",
   "name": "python",
   "nbconvert_exporter": "python",
   "pygments_lexer": "ipython2",
   "version": "2.7.13"
  }
 },
 "nbformat": 4,
 "nbformat_minor": 2
}
